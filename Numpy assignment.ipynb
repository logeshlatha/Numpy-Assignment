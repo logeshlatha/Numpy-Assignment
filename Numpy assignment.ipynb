{
 "cells": [
  {
   "cell_type": "code",
   "execution_count": null,
   "id": "c58148ca",
   "metadata": {},
   "outputs": [],
   "source": [
    "import pandas as pd\n",
    "import numpy as np"
   ]
  },
  {
   "cell_type": "markdown",
   "id": "e4ac82bb",
   "metadata": {},
   "source": [
    "## AAlexandre-Theophile Vandermonde."
   ]
  },
  {
   "cell_type": "code",
   "execution_count": 27,
   "id": "5016c8d7",
   "metadata": {},
   "outputs": [],
   "source": [
    "def Vander_matrix(arr,n):\n",
    "    return np.vander(arr,n)"
   ]
  },
  {
   "cell_type": "code",
   "execution_count": 28,
   "id": "2f84f554",
   "metadata": {},
   "outputs": [
    {
     "data": {
      "text/plain": [
       "array([[  1,   1,   1,   1],\n",
       "       [  8,   4,   2,   1],\n",
       "       [ 27,   9,   3,   1],\n",
       "       [ 64,  16,   4,   1],\n",
       "       [125,  25,   5,   1]])"
      ]
     },
     "execution_count": 28,
     "metadata": {},
     "output_type": "execute_result"
    }
   ],
   "source": [
    "a=np.array([1,2,3,4,5])\n",
    "Vander_matrix(a,4)"
   ]
  },
  {
   "cell_type": "markdown",
   "id": "a4036e31",
   "metadata": {},
   "source": [
    "## Moving Average Function"
   ]
  },
  {
   "cell_type": "code",
   "execution_count": 24,
   "id": "cb9a819c",
   "metadata": {},
   "outputs": [],
   "source": [
    "def Moving_average(arr,n):\n",
    "    return np.convolve(arr,np.ones(n),'valid')/n"
   ]
  },
  {
   "cell_type": "code",
   "execution_count": 26,
   "id": "d00da837",
   "metadata": {},
   "outputs": [
    {
     "data": {
      "text/plain": [
       "array([  5.        ,   4.66666667,   5.66666667,   6.66666667,\n",
       "         9.66666667,  28.66666667,  49.33333333,  72.66666667,\n",
       "        84.        ,  93.33333333, 116.33333333])"
      ]
     },
     "execution_count": 26,
     "metadata": {},
     "output_type": "execute_result"
    }
   ],
   "source": [
    "a=np.array([3, 5, 7, 2, 8, 10, 11, 65, 72, 81, 99, 100, 150])\n",
    "Moving_average(a,3)"
   ]
  },
  {
   "cell_type": "code",
   "execution_count": null,
   "id": "d6e48117",
   "metadata": {},
   "outputs": [],
   "source": []
  }
 ],
 "metadata": {
  "kernelspec": {
   "display_name": "Python 3",
   "language": "python",
   "name": "python3"
  },
  "language_info": {
   "codemirror_mode": {
    "name": "ipython",
    "version": 3
   },
   "file_extension": ".py",
   "mimetype": "text/x-python",
   "name": "python",
   "nbconvert_exporter": "python",
   "pygments_lexer": "ipython3",
   "version": "3.8.8"
  }
 },
 "nbformat": 4,
 "nbformat_minor": 5
}
